{
 "cells": [
  {
   "cell_type": "markdown",
   "metadata": {},
   "source": [
    "<h1>Project 4: SafeComm Digital Security Solutions</h1>\n",
    "<p>Team Captain: E00020</p>\n",
    "<p>Member 2: E00491</p>\n",
    "<p>Member 3: E00045</p>\n",
    "</br></br>\n",
    "<h2>Table of Contents</h2>\n",
    "<ol>\n",
    "  <li><a href=\"#section1\">Importing Libaries</a></li>\n",
    "  <li><a href=\"#section2\">Importing and Inspecting Data</a></li>\n",
    "  <li><a href=\"#section3\">EDA</a></li>\n",
    "  <li><a href=\"#section4\">Data Preprocessing</a></li>\n",
    "  <li><a href=\"#section5\">Models</a></li>\n",
    "  <li><a href=\"#section6\">Testing</a></li>\n",
    "</ol>\n",
    "</br></br>"
   ]
  },
  {
   "cell_type": "markdown",
   "metadata": {},
   "source": [
    "<h3 id=\"section1\">Setup</h3>"
   ]
  },
  {
   "cell_type": "code",
   "execution_count": 2,
   "metadata": {},
   "outputs": [],
   "source": [
    "# importing all necessary libaries => delete used!\n",
    "import numpy as np\n",
    "import pandas as pd\n",
    "import seaborn as sns\n",
    "import matplotlib.pyplot as plt\n",
    "import nltk\n",
    "import spacy\n",
    "import re\n",
    "import string\n",
    "import unicodedata\n",
    "from bs4 import BeautifulSoup\n",
    "from sklearn.linear_model import LogisticRegression, SGDClassifier\n",
    "from sklearn.naive_bayes import MultinomialNB\n",
    "from sklearn.model_selection import train_test_split\n",
    "from sklearn.svm import SVC\n",
    "from sklearn.metrics import classification_report, confusion_matrix, accuracy_score\n",
    "from sklearn.feature_extraction.text import CountVectorizer\n",
    "from sklearn.feature_extraction.text import TfidfVectorizer\n",
    "from sklearn.preprocessing import LabelBinarizer\n",
    "from textblob import TextBlob\n",
    "from textblob import Word\n",
    "from nltk.corpus import stopwords\n",
    "from nltk.stem.porter import PorterStemmer\n",
    "from nltk.stem import WordNetLemmatizer\n",
    "from nltk.tokenize import word_tokenize, sent_tokenize\n",
    "from nltk.tokenize.toktok import ToktokTokenizer\n",
    "from nltk.stem import LancasterStemmer, WordNetLemmatizer\n",
    "from wordcloud import WordCloud, STOPWORDS\n",
    "from plotly import graph_objs as go\n",
    "import plotly.express as px\n",
    "import plotly.figure_factory as ff\n",
    "\n",
    "import warnings\n",
    "warnings.filterwarnings('ignore')\n"
   ]
  },
  {
   "cell_type": "code",
   "execution_count": null,
   "metadata": {},
   "outputs": [],
   "source": []
  },
  {
   "cell_type": "markdown",
   "metadata": {},
   "source": [
    "<h3 id=\"section2\">Importing and Inspecting Data</h3>"
   ]
  },
  {
   "cell_type": "code",
   "execution_count": 90,
   "metadata": {},
   "outputs": [
    {
     "name": "stdout",
     "output_type": "stream",
     "text": [
      "Shape:  (5572, 4)\n",
      "Head:     Fraudolent                                           SMS_test       ID  \\\n",
      "0           0  Squeeeeeze!! This is christmas hug.. If u lik ...  1EWYRBL   \n",
      "1           0  And also I've sorta blown him off a couple tim...  ZY4PDK7   \n",
      "2           0  Mmm thats better now i got a roast down me! i...  KLUX2C6   \n",
      "3           0      Mm have some kanji dont eat anything heavy ok  955HXJ0   \n",
      "4           0  So there's a ring that comes with the guys cos...  00Q6EUC   \n",
      "\n",
      "  Date and Time  \n",
      "0    2017-12-02  \n",
      "1    2018-03-23  \n",
      "2    2016-10-29  \n",
      "3    2018-04-12  \n",
      "4    2016-08-01  \n",
      "Variable Types\n",
      "Fraudolent        int64\n",
      "SMS_test         object\n",
      "ID               object\n",
      "Date and Time    object\n",
      "dtype: object\n",
      "Missing Values:\n",
      "Fraudolent       0\n",
      "SMS_test         0\n",
      "ID               0\n",
      "Date and Time    0\n",
      "dtype: int64\n",
      "Duplicates:\n",
      "5572\n",
      "0    4825\n",
      "1     747\n",
      "Name: Fraudolent, dtype: int64\n",
      "Fraudolent : 2\n",
      "SMS_test : 5157\n",
      "ID : 5572\n",
      "Date and Time : 946\n"
     ]
    }
   ],
   "source": [
    "# importing the csv into a pandas data frame\n",
    "df = pd.read_csv(\"./sms.csv\")\n",
    "print(\"Shape: \", df.shape)\n",
    "print(\"Head: \", df.head())\n",
    "\n",
    "# checking the distribution of each variable type\n",
    "variable_types = df.dtypes\n",
    "print(\"Variable Types\")\n",
    "print(variable_types)\n",
    "\n",
    "# checking for missing values in the dataset\n",
    "missing_values_count = df.isnull().sum()\n",
    "print(\"Missing Values:\")\n",
    "print(missing_values_count)\n",
    "\n",
    "# checking if there are any duplicates in the dataset\n",
    "duplicates = df.duplicated()\n",
    "print(\"Duplicates:\")\n",
    "print(duplicates.count())\n",
    "\n",
    "# checking if the data is balanced in regard to fraudulent and non-fraudulent\n",
    "print(df[\"Fraudolent\"].value_counts())\n",
    "\n",
    "\n",
    "# checking the distribution of each column => necessary?\n",
    "for col in df:\n",
    "    print(col, \":\", len(df[col].unique()))\n",
    "\n",
    "\n"
   ]
  },
  {
   "cell_type": "markdown",
   "metadata": {},
   "source": [
    "<p>notice here especially: data is not balanced and there are overlapping times and message contents => could mybe point to spam?</p>"
   ]
  },
  {
   "cell_type": "markdown",
   "metadata": {},
   "source": [
    "<h3 id=\"section3\">Exploratory Data Analysis<h3>\n"
   ]
  },
  {
   "cell_type": "code",
   "execution_count": 91,
   "metadata": {},
   "outputs": [
    {
     "name": "stdout",
     "output_type": "stream",
     "text": [
      "Summary Statistics:\n",
      "        Fraudolent\n",
      "count  5572.000000\n",
      "mean      0.134063\n",
      "std       0.340751\n",
      "min       0.000000\n",
      "25%       0.000000\n",
      "50%       0.000000\n",
      "75%       0.000000\n",
      "max       1.000000\n"
     ]
    },
    {
     "data": {
      "image/png": "[encoded data removed]",
      "text/plain": [
       "<Figure size 640x480 with 1 Axes>"
      ]
     },
     "metadata": {},
     "output_type": "display_data"
    }
   ],
   "source": [
    "print(\"Summary Statistics:\")\n",
    "print(df.describe())\n",
    "\n",
    "sns.countplot(data=df, x=\"Fraudolent\")\n",
    "plt.title('Distribution of Fraudolent and Non-Fraudolent SMS')\n",
    "plt.xlabel('Fraudolent')\n",
    "plt.ylabel('Count')\n",
    "plt.show()\n"
   ]
  },
  {
   "cell_type": "code",
   "execution_count": null,
   "metadata": {},
   "outputs": [],
   "source": [
    "\n",
    "\n"
   ]
  },
  {
   "cell_type": "markdown",
   "metadata": {},
   "source": [
    "<h3 id=\"section4\">Data Preprocessing</h3>"
   ]
  },
  {
   "cell_type": "code",
   "execution_count": 109,
   "metadata": {},
   "outputs": [
    {
     "name": "stdout",
     "output_type": "stream",
     "text": [
      "(3714,) (3714,)\n",
      "(1858,) (1858,)\n"
     ]
    }
   ],
   "source": [
    "# splitting the dataframe into training set and test set\n",
    "# X = df[\"SMS test\"]\n",
    "# y = df[\"Fraudolent\"]\n",
    "# X_train, X_test, y_train, y_test = train_test_split(X, y, test_size=\n",
    "#                                                     0.25, random_state=1)\n",
    "TRAIN_TEST_SPLIT = 3714\n",
    "\n",
    "#train dataset\n",
    "train_text=df.SMS_test[:TRAIN_TEST_SPLIT]\n",
    "train_sentiments=df.Fraudolent[:TRAIN_TEST_SPLIT]\n",
    "\n",
    "#test dataset\n",
    "test_text=df.SMS_test[TRAIN_TEST_SPLIT:]\n",
    "test_sentiments=df.Fraudolent[TRAIN_TEST_SPLIT:]\n",
    "\n",
    "print(train_text.shape, train_sentiments.shape)\n",
    "print(test_text.shape, test_sentiments.shape)\n"
   ]
  },
  {
   "cell_type": "code",
   "execution_count": null,
   "metadata": {},
   "outputs": [],
   "source": [
    "# handle missing values\n"
   ]
  },
  {
   "cell_type": "code",
   "execution_count": 118,
   "metadata": {},
   "outputs": [
    {
     "name": "stderr",
     "output_type": "stream",
     "text": [
      "[nltk_data] Downloading package stopwords to\n",
      "[nltk_data]     /Users/arthurbirnstiel/nltk_data...\n",
      "[nltk_data]   Package stopwords is already up-to-date!\n"
     ]
    },
    {
     "name": "stdout",
     "output_type": "stream",
     "text": [
      "{\"it's\", \"you'd\", \"wasn't\", 'only', 'than', 'most', 'all', 'am', 'between', 'to', 'shouldn', 'me', 'her', 'below', 'down', 'on', 'ma', \"shouldn't\", 'will', 'what', 'you', 'him', 'themselves', 'now', 'doesn', 'just', \"weren't\", 'both', 'at', 'why', 'yours', 'were', 'll', 're', 'shan', 'which', 's', 'once', 'can', 'have', 'be', 'our', 'no', 'your', \"don't\", 'during', 'isn', 'but', \"mustn't\", \"hadn't\", 'as', 'so', 'those', 'same', 'there', 'we', 'few', 'do', 'himself', 'when', 'its', \"shan't\", 'here', 'mustn', 'in', \"couldn't\", 'more', 'own', 'against', 'a', 'for', 'are', 'this', \"needn't\", 'by', 'haven', 'wouldn', 'o', \"haven't\", 'does', \"hasn't\", 'being', 'not', 'yourself', 'my', 'couldn', 'into', 'it', \"didn't\", 'doing', 'yourselves', 'they', \"you'll\", \"should've\", 'about', 'she', \"doesn't\", 'weren', 'aren', 'other', 'off', 'how', 'd', 'did', \"you're\", 'hers', 'whom', 'until', 'with', 'itself', 'hadn', 'should', 'had', 'if', 'theirs', 'because', \"wouldn't\", 'who', 'needn', \"you've\", 'under', 'herself', \"that'll\", 'further', 'wasn', 'again', \"aren't\", 'been', 'hasn', 'has', 'while', 'too', 'very', 'up', 'having', 'ourselves', 'ain', 'his', 'before', 'and', 'mightn', 'over', 't', \"isn't\", 'or', \"won't\", 'is', 'some', 'through', 'the', 'these', 'above', 'nor', 'after', 'out', 'didn', 'any', 'them', 'don', 'he', \"mightn't\", 'myself', 'an', 'from', 'where', 'then', 'their', 'of', 'm', 'y', 'was', 'i', 've', 'won', \"she's\", 'that', 'ours', 'each', 'such'}\n",
      "BOW_cv_train: (3714, 51177)\n",
      "BOW_cv_test: (1858, 51177)\n",
      "Tfidf_train: (3714, 51177)\n",
      "Tfidf_test: (1858, 51177)\n",
      "   Fraudolent                                           SMS_test       ID  \\\n",
      "0           0  squeeeeez thi christma hug u lik frndshp den h...  1EWYRBL   \n",
      "1           0  also ive sorta blown coupl time recent id rath...  ZY4PDK7   \n",
      "2           0  mmm better got roast id b better drink 2 good ...  KLUX2C6   \n",
      "3           0                   mm kanji dont eat anyth heavi ok  955HXJ0   \n",
      "4           0    ring come guy costum gift futur yowif hint hint  00Q6EUC   \n",
      "\n",
      "  Date and Time  \n",
      "0    2017-12-02  \n",
      "1    2018-03-23  \n",
      "2    2016-10-29  \n",
      "3    2018-04-12  \n",
      "4    2016-08-01  \n",
      "(5572, 1)\n"
     ]
    }
   ],
   "source": [
    "# text normalization\n",
    "nltk.download('stopwords')\n",
    "\n",
    "# tokenization of text\n",
    "tokenizer=ToktokTokenizer()\n",
    "\n",
    "# setting english stopwords\n",
    "stopword_list=nltk.corpus.stopwords.words('english')\n",
    "\n",
    "#Removing the html strips\n",
    "def strip_html(text):\n",
    "    soup = BeautifulSoup(text, \"html.parser\")\n",
    "    return soup.get_text()\n",
    "\n",
    "#Removing the square brackets\n",
    "def remove_between_square_brackets(text):\n",
    "    return re.sub('\\[[^]]*\\]', '', text)\n",
    "\n",
    "#Removing the noisy text\n",
    "def denoise_text(text):\n",
    "    text = strip_html(text)\n",
    "    text = remove_between_square_brackets(text)\n",
    "    return text\n",
    "\n",
    "#apply function on review column\n",
    "df['SMS_test']=df['SMS_test'].apply(denoise_text)\n",
    "\n",
    "#Define function for removing special characters\n",
    "def remove_special_characters(text):\n",
    "    pattern=r'[^a-zA-z0-9\\s]'\n",
    "    text=re.sub(pattern,'',text)\n",
    "    return text\n",
    "\n",
    "#apply function on review column\n",
    "df['SMS_test']=df['SMS_test'].apply(remove_special_characters)\n",
    "\n",
    "#stemming the text\n",
    "def simple_stemmer(text):\n",
    "    ps=nltk.porter.PorterStemmer()\n",
    "    text= ' '.join([ps.stem(word) for word in text.split()])\n",
    "    return text\n",
    "\n",
    "#apply function on review column\n",
    "df['SMS_test']=df['SMS_test'].apply(simple_stemmer)\n",
    "\n",
    "#set stopwords to english\n",
    "stop=set(stopwords.words('english'))\n",
    "print(stop)\n",
    "\n",
    "#removing the stopwords\n",
    "def remove_stopwords(text, is_lower_case=False):\n",
    "    tokens = tokenizer.tokenize(text)\n",
    "    tokens = [token.strip() for token in tokens]\n",
    "    if is_lower_case:\n",
    "        filtered_tokens = [token for token in tokens if token not in stopword_list]\n",
    "    else:\n",
    "        filtered_tokens = [token for token in tokens if token.lower() not in stopword_list]\n",
    "    filtered_text = ' '.join(filtered_tokens)\n",
    "    return filtered_text\n",
    "\n",
    "#apply function on text column\n",
    "df['SMS_test']=df['SMS_test'].apply(remove_stopwords)\n",
    "\n",
    "#normalized train reviews\n",
    "norm_train_text=df.SMS_test[:TRAIN_TEST_SPLIT]\n",
    "norm_train_text[0]\n",
    "\n",
    "#Normalized test reviews\n",
    "norm_test_text=df.SMS_test[TRAIN_TEST_SPLIT:]\n",
    "norm_test_text[4000]\n",
    "\n",
    "#Count vectorizer for bag of words\n",
    "cv=CountVectorizer(min_df=0.0,max_df=1.0,binary=True,ngram_range=(1,3))\n",
    "\n",
    "\n",
    "#transformed train reviews\n",
    "cv_train_text=cv.fit_transform(norm_train_text)\n",
    "\n",
    "#transformed test reviews\n",
    "cv_test_text=cv.transform(norm_test_text)\n",
    "\n",
    "print('BOW_cv_train:', cv_train_text.shape)\n",
    "print('BOW_cv_test:', cv_test_text.shape)\n",
    "\n",
    "#Tfidf vectorizer\n",
    "tv=TfidfVectorizer(min_df=0.0,max_df=1.0,use_idf=True,ngram_range=(1,3))\n",
    "\n",
    "#transformed train reviews\n",
    "tv_train_text=tv.fit_transform(norm_train_text)\n",
    "\n",
    "#transformed test reviews\n",
    "tv_test_text=tv.transform(norm_test_text)\n",
    "\n",
    "print('Tfidf_train:', tv_train_text.shape)\n",
    "print('Tfidf_test:', tv_test_text.shape)\n",
    "\n",
    "print(df.head())\n",
    "\n",
    "#labeling the sentiment data\n",
    "lb=LabelBinarizer()\n",
    "#transformed sentiment data\n",
    "sentiment_data=lb.fit_transform(df['Fraudolent'])\n",
    "print(sentiment_data.shape)\n",
    "\n",
    "conf_matrices = {}\n"
   ]
  },
  {
   "cell_type": "markdown",
   "metadata": {},
   "source": [
    "<h3 id=\"section5\">Models</h3>"
   ]
  },
  {
   "cell_type": "code",
   "execution_count": 119,
   "metadata": {},
   "outputs": [
    {
     "name": "stdout",
     "output_type": "stream",
     "text": [
      "lr_bow_score : 0.9494079655543596\n",
      "lr_tfidf_score : 0.926264800861141\n",
      "              precision    recall  f1-score   support\n",
      "\n",
      "    Positive       0.99      0.96      0.97      1606\n",
      "    Negative       0.76      0.91      0.83       252\n",
      "\n",
      "    accuracy                           0.95      1858\n",
      "   macro avg       0.87      0.93      0.90      1858\n",
      "weighted avg       0.96      0.95      0.95      1858\n",
      "\n",
      "              precision    recall  f1-score   support\n",
      "\n",
      "    Positive       0.92      1.00      0.96      1606\n",
      "    Negative       0.98      0.47      0.63       252\n",
      "\n",
      "    accuracy                           0.93      1858\n",
      "   macro avg       0.95      0.73      0.80      1858\n",
      "weighted avg       0.93      0.93      0.91      1858\n",
      "\n"
     ]
    },
    {
     "data": {
      "image/png": "[encoded data removed]",
      "text/plain": [
       "<Figure size 1000x700 with 2 Axes>"
      ]
     },
     "metadata": {},
     "output_type": "display_data"
    }
   ],
   "source": [
    "# model 1: log regression\n",
    "#training the model\n",
    "lr=LogisticRegression(penalty='l2',max_iter=500,C=1,random_state=42)\n",
    "\n",
    "#Fitting the model for Bag of words\n",
    "lr_bow=lr.fit(cv_train_text,train_sentiments)\n",
    "\n",
    "#Fitting the model for tfidf features\n",
    "lr_tfidf=lr.fit(tv_train_text,train_sentiments)\n",
    "\n",
    "#Predicting the model for bag of words\n",
    "lr_bow_predict=lr.predict(cv_test_text)\n",
    "\n",
    "#Predicting the model for tfidf features\n",
    "lr_tfidf_predict=lr.predict(tv_test_text)\n",
    "#Accuracy score for bag of words\n",
    "lr_bow_score=accuracy_score(test_sentiments,lr_bow_predict)\n",
    "print(\"lr_bow_score :\",lr_bow_score)\n",
    "\n",
    "#Accuracy score for tfidf features\n",
    "lr_tfidf_score=accuracy_score(test_sentiments,lr_tfidf_predict)\n",
    "print(\"lr_tfidf_score :\",lr_tfidf_score)\n",
    "\n",
    "#Classification report for bag of words\n",
    "lr_bow_report=classification_report(test_sentiments,lr_bow_predict,target_names=['Positive','Negative'])\n",
    "print(lr_bow_report)\n",
    "\n",
    "#Classification report for tfidf features\n",
    "lr_tfidf_report=classification_report(test_sentiments,lr_tfidf_predict,target_names=['Positive','Negative'])\n",
    "print(lr_tfidf_report)\n",
    "\n",
    "# confusion matrix for bag of words\n",
    "cm_bow=confusion_matrix(test_sentiments,lr_bow_predict,labels=[1,0])\n",
    "conf_matrices[\"lr_bow\"] = cm_bow\n",
    "\n",
    "plt.figure(figsize=(10,7))\n",
    "sns.set(font_scale=1.4)  # for label size\n",
    "sns.heatmap(cm_bow, annot=True, annot_kws={\"size\": 16}, fmt='g')  # fmt='g' is a format option to suppress scientific notation\n",
    "\n",
    "plt.ylabel('Actual label')\n",
    "plt.xlabel('Predicted label')\n",
    "plt.title('BoW Confusion Matrix Heatmap')\n",
    "plt.show()\n"
   ]
  },
  {
   "cell_type": "code",
   "execution_count": null,
   "metadata": {},
   "outputs": [],
   "source": [
    "# model 2\n"
   ]
  },
  {
   "cell_type": "code",
   "execution_count": null,
   "metadata": {},
   "outputs": [],
   "source": [
    "# model 3\n"
   ]
  },
  {
   "cell_type": "markdown",
   "metadata": {},
   "source": [
    "<h3 id=\"section6\">Testing</h3>"
   ]
  },
  {
   "cell_type": "code",
   "execution_count": null,
   "metadata": {},
   "outputs": [],
   "source": [
    "# alt run tests in seperate file?\n"
   ]
  }
 ],
 "metadata": {
  "kernelspec": {
   "display_name": "Python 3",
   "language": "python",
   "name": "python3"
  },
  "language_info": {
   "codemirror_mode": {
    "name": "ipython",
    "version": 3
   },
   "file_extension": ".py",
   "mimetype": "text/x-python",
   "name": "python",
   "nbconvert_exporter": "python",
   "pygments_lexer": "ipython3",
   "version": "3.11.1"
  }
 },
 "nbformat": 4,
 "nbformat_minor": 2
}
